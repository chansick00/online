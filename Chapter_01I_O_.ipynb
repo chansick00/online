{
 "cells": [
  {
   "cell_type": "markdown",
   "metadata": {
    "id": "7KaEFFwmaz9f"
   },
   "source": [
    "## I/O (Input / Output) "
   ]
  },
  {
   "cell_type": "markdown",
   "metadata": {
    "id": "Ob-m8XQbaz9o"
   },
   "source": [
    "### 1. STDIN / STDOUT (Standard IN, Standard OUT)"
   ]
  },
  {
   "cell_type": "markdown",
   "metadata": {
    "id": "I9B1Br_0az9o"
   },
   "source": [
    "- 파이썬은 input()을 통해서 stdin을 사용자로부터 입력받을 수 있다.\n",
    "\n",
    "\n",
    "- 파이썬은 print()를 통해서 stdout을 사용자에게 출력할 수 있다."
   ]
  },
  {
   "cell_type": "code",
   "execution_count": 1,
   "metadata": {
    "id": "NcHNtr58az9p"
   },
   "outputs": [
    {
     "name": "stdout",
     "output_type": "stream",
     "text": [
      "10\n"
     ]
    }
   ],
   "source": [
    "# a에 키보드로 입력받은 값을 할당하고 출력해본다.\n",
    "\n",
    "a = input()"
   ]
  },
  {
   "cell_type": "code",
   "execution_count": 3,
   "metadata": {},
   "outputs": [
    {
     "data": {
      "text/plain": [
       "'10'"
      ]
     },
     "execution_count": 3,
     "metadata": {},
     "output_type": "execute_result"
    }
   ],
   "source": [
    "a"
   ]
  },
  {
   "cell_type": "code",
   "execution_count": 4,
   "metadata": {},
   "outputs": [
    {
     "data": {
      "text/plain": [
       "str"
      ]
     },
     "execution_count": 4,
     "metadata": {},
     "output_type": "execute_result"
    }
   ],
   "source": [
    "type(a)"
   ]
  },
  {
   "cell_type": "markdown",
   "metadata": {
    "id": "-9bkJP0haz9q"
   },
   "source": [
    "- 파이썬에서는 stdin은 무조건 문자열 타입으로 들어온다. 이를 type casting을 통해서 다른 데이터 타입으로 바꾸어 사용해야 한다."
   ]
  },
  {
   "cell_type": "code",
   "execution_count": 5,
   "metadata": {
    "id": "Kre90bwsaz9r"
   },
   "outputs": [
    {
     "name": "stdout",
     "output_type": "stream",
     "text": [
      "50\n"
     ]
    },
    {
     "data": {
      "text/plain": [
       "50"
      ]
     },
     "execution_count": 5,
     "metadata": {},
     "output_type": "execute_result"
    }
   ],
   "source": [
    "# 입력받는 값을 숫자라고 가정한 경우.\n",
    "n = input()\n",
    "n = int(n)\n",
    "n"
   ]
  },
  {
   "cell_type": "code",
   "execution_count": 6,
   "metadata": {},
   "outputs": [
    {
     "data": {
      "text/plain": [
       "int"
      ]
     },
     "execution_count": 6,
     "metadata": {},
     "output_type": "execute_result"
    }
   ],
   "source": [
    "type(n)"
   ]
  },
  {
   "cell_type": "code",
   "execution_count": 7,
   "metadata": {},
   "outputs": [
    {
     "name": "stdout",
     "output_type": "stream",
     "text": [
      "50\n"
     ]
    }
   ],
   "source": [
    "m = int(input())"
   ]
  },
  {
   "cell_type": "code",
   "execution_count": 8,
   "metadata": {
    "id": "8iinAvVAaz9r"
   },
   "outputs": [
    {
     "name": "stdout",
     "output_type": "stream",
     "text": [
      "10\n"
     ]
    },
    {
     "data": {
      "text/plain": [
       "12"
      ]
     },
     "execution_count": 8,
     "metadata": {},
     "output_type": "execute_result"
    }
   ],
   "source": [
    "# 입력받는 값을 숫자라고 가정했는데 문자열이 들어오면 에러가 난다. 이 경우는 type casting이 실패한 경우이다.\n",
    "n = int(input())\n",
    "n+2"
   ]
  },
  {
   "cell_type": "markdown",
   "metadata": {
    "id": "6eZWUq_Daz9r"
   },
   "source": [
    "- 입력이 문자열이기 때문에 fancy하게 input을 처리할 수 있는 방법이 있다."
   ]
  },
  {
   "cell_type": "markdown",
   "metadata": {
    "id": "XDI8URO8az9s"
   },
   "source": [
    "#### Q. 만약에 stdin으로 여러 개의 숫자가 들어오는 경우, 입력의 format을 알고 있다고 가정했을 때, 이를 효과적으로 처리할 수 있을까?"
   ]
  },
  {
   "cell_type": "code",
   "execution_count": 11,
   "metadata": {
    "id": "sg0e_5H5az9s"
   },
   "outputs": [
    {
     "name": "stdout",
     "output_type": "stream",
     "text": [
      "3, 5\n"
     ]
    },
    {
     "data": {
      "text/plain": [
       "('3', ' 5')"
      ]
     },
     "execution_count": 11,
     "metadata": {},
     "output_type": "execute_result"
    }
   ],
   "source": [
    "# 이는 숫자를 2개로 가정한 경우\n",
    "a, b = input().split(',')\n",
    "a, b"
   ]
  },
  {
   "cell_type": "code",
   "execution_count": 18,
   "metadata": {},
   "outputs": [
    {
     "name": "stdout",
     "output_type": "stream",
     "text": [
      "5, 3\n"
     ]
    },
    {
     "data": {
      "text/plain": [
       "13"
      ]
     },
     "execution_count": 18,
     "metadata": {},
     "output_type": "execute_result"
    }
   ],
   "source": [
    "c, d = input().split(',')\n",
    "c, d = int(c), int(d)\n",
    "c + 8"
   ]
  },
  {
   "cell_type": "code",
   "execution_count": 19,
   "metadata": {
    "id": "SPAtlM66az9s"
   },
   "outputs": [
    {
     "data": {
      "text/plain": [
       "[3, 4, 5]"
      ]
     },
     "execution_count": 19,
     "metadata": {},
     "output_type": "execute_result"
    }
   ],
   "source": [
    "# 이와 같은 표현을 list comprehension이라고 한다.\n",
    "\n",
    "[x+2 for x in range(1,4)]"
   ]
  },
  {
   "cell_type": "code",
   "execution_count": 23,
   "metadata": {
    "id": "fCGVWA4Z4O6W"
   },
   "outputs": [
    {
     "name": "stdout",
     "output_type": "stream",
     "text": [
      "5,4,8\n"
     ]
    },
    {
     "data": {
      "text/plain": [
       "[5, 4, 8]"
      ]
     },
     "execution_count": 23,
     "metadata": {},
     "output_type": "execute_result"
    }
   ],
   "source": [
    "# for문을 사용한 코드\n",
    "\n",
    "numbers =[]\n",
    "for num in input().split(','):\n",
    "    numbers.append(int(num))\n",
    "numbers    "
   ]
  },
  {
   "cell_type": "code",
   "execution_count": null,
   "metadata": {
    "id": "SfAWJB7taz9t"
   },
   "outputs": [],
   "source": [
    "# 위의 코드는 아래와 같다. 위의 코드가 훨씬 간단한 것을 확인할 수 있다. 익숙해져서 list comprehension을 사용하도록 하자.\n",
    "\n",
    "[int(num) for num in input('input에 대한 설명을 쓸 수 있다 ').split(',')]"
   ]
  }
 ],
 "metadata": {
  "colab": {
   "collapsed_sections": [],
   "name": "Chapter.01 파이썬 프로그래밍-12. I_O (실습).ipynb",
   "provenance": []
  },
  "kernelspec": {
   "display_name": "Python 3 (ipykernel)",
   "language": "python",
   "name": "python3"
  },
  "language_info": {
   "codemirror_mode": {
    "name": "ipython",
    "version": 3
   },
   "file_extension": ".py",
   "mimetype": "text/x-python",
   "name": "python",
   "nbconvert_exporter": "python",
   "pygments_lexer": "ipython3",
   "version": "3.9.7"
  }
 },
 "nbformat": 4,
 "nbformat_minor": 1
}
