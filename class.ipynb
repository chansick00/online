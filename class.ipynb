{
 "cells": [
  {
   "cell_type": "markdown",
   "id": "bd11d538",
   "metadata": {},
   "source": [
    "### class란?\n",
    "- 실세계의 것을 모델링하여 속성(attribute)와 동작(method)를 갖는 데이터 타입\n",
    "- python에서의 string, int, list, dict.. 모두가 다 클래스로 존재\n",
    "- 예를들어 학생이라는 클래스를 만든다면, 학생을 나타내는 속성과 학생이 행하는 행동을 함께 정의 할 수 있음\n",
    "따라서, 다루고자 하는 데이터(변수) 와 데이터를 다루는 연산(함수)를 하나로 캡슐화(encapsulation)하여 클래- 스로 표현\n",
    "- 모델링에서 중요시 하는 속성에 따라 클래스의 속성과 행동이 각각 달라짐"
   ]
  },
  {
   "cell_type": "code",
   "execution_count": 1,
   "id": "827a20d6",
   "metadata": {},
   "outputs": [
    {
     "data": {
      "text/plain": [
       "[1, 2, 3, 4, 5]"
      ]
     },
     "execution_count": 1,
     "metadata": {},
     "output_type": "execute_result"
    }
   ],
   "source": [
    "a = [1, 2, 3, 4]\n",
    "a.append(5)\n",
    "a"
   ]
  },
  {
   "cell_type": "markdown",
   "id": "1a16fdeb",
   "metadata": {},
   "source": [
    "### class 선언하기\n",
    "- 객체를 생성하기 위해선 객체의 모체가 되는 class를 미리 선언해야 함"
   ]
  },
  {
   "cell_type": "code",
   "execution_count": 2,
   "id": "d25381a7",
   "metadata": {},
   "outputs": [],
   "source": [
    "class Person:\n",
    "  pass"
   ]
  },
  {
   "cell_type": "code",
   "execution_count": 3,
   "id": "3760dc66",
   "metadata": {},
   "outputs": [
    {
     "name": "stdout",
     "output_type": "stream",
     "text": [
      "<class '__main__.Person'> <class '__main__.Person'>\n",
      "<class 'list'> <class 'list'>\n"
     ]
    }
   ],
   "source": [
    "bob = Person()\n",
    "cathy = Person()\n",
    "\n",
    "a = list()\n",
    "b = list()\n",
    "\n",
    "print(type(bob), type(cathy))\n",
    "print(type(a), type(b))"
   ]
  },
  {
   "cell_type": "code",
   "execution_count": 4,
   "id": "db748967",
   "metadata": {},
   "outputs": [
    {
     "name": "stdout",
     "output_type": "stream",
     "text": [
      "<__main__.Person object at 0x000001667652A340> is generated\n",
      "<__main__.Person object at 0x000001667652ADF0> is generated\n"
     ]
    }
   ],
   "source": [
    "class Person:\n",
    "  def __init__(self):\n",
    "      print(self,'is generated')\n",
    "      self.name = 'Kate'\n",
    "      self.age = 10\n",
    "\n",
    "p1 = Person()\n",
    "p2 = Person()"
   ]
  },
  {
   "cell_type": "code",
   "execution_count": 5,
   "id": "599654a0",
   "metadata": {},
   "outputs": [
    {
     "data": {
      "text/plain": [
       "'Kate'"
      ]
     },
     "execution_count": 5,
     "metadata": {},
     "output_type": "execute_result"
    }
   ],
   "source": [
    "p1.name"
   ]
  },
  {
   "cell_type": "code",
   "execution_count": 6,
   "id": "d6178b07",
   "metadata": {},
   "outputs": [
    {
     "data": {
      "text/plain": [
       "10"
      ]
     },
     "execution_count": 6,
     "metadata": {},
     "output_type": "execute_result"
    }
   ],
   "source": [
    "p1.age"
   ]
  },
  {
   "cell_type": "code",
   "execution_count": 7,
   "id": "297272f9",
   "metadata": {},
   "outputs": [
    {
     "name": "stdout",
     "output_type": "stream",
     "text": [
      "Bob 30\n",
      "kate 20\n",
      "Aaron 10\n"
     ]
    }
   ],
   "source": [
    "class Person:\n",
    "  def __init__(self, name, age=10):\n",
    "      #print(self,'is generated')\n",
    "      self.name = name\n",
    "      self.age = age\n",
    "\n",
    "p3 = Person('Bob', 30)\n",
    "p4 = Person('kate', 20)\n",
    "p5 = Person('Aaron')\n",
    "\n",
    "print(p3.name, p3.age)\n",
    "print(p4.name, p4.age)\n",
    "print(p5.name, p5.age)"
   ]
  },
  {
   "cell_type": "markdown",
   "id": "98d4e872",
   "metadata": {},
   "source": [
    "### init(self)\n",
    "- 생성자, 클래스 인스턴스가 생성될 때 호출됨\n",
    "\n",
    "- self인자는 항상 첫번째에 오며 자기 자신을 가리킴\n",
    "\n",
    "- 이름이 꼭 self일 필요는 없지만, 관례적으로 self로 사용\n",
    "\n",
    "- 생성자에서는 해당 클래스가 다루는 데이터를 정의\n",
    "\n",
    "- 이 데이터를 멤버 변수(member variable) 또는 속성(attribute)라고 함"
   ]
  },
  {
   "cell_type": "code",
   "execution_count": 8,
   "id": "fa365c94",
   "metadata": {},
   "outputs": [
    {
     "name": "stdout",
     "output_type": "stream",
     "text": [
      "self: <__main__.Person object at 0x000001667656CEB0>\n",
      "self: <__main__.Person object at 0x000001667656CA60>\n",
      "<__main__.Person object at 0x000001667656CEB0>\n",
      "<__main__.Person object at 0x000001667656CA60>\n",
      "Aaron 은 잠을 잡니다\n",
      "Bob 은 잠을 잡니다\n"
     ]
    }
   ],
   "source": [
    "class Person:\n",
    "  def __init__(self, name, age):\n",
    "      print('self:', self)\n",
    "      self.name = name\n",
    "      self.age = age\n",
    "\n",
    "  def sleep(self):\n",
    "        print(self.name, '은 잠을 잡니다')\n",
    "  \n",
    "a = Person('Aaron', 20)\n",
    "b = Person('Bob', 30)\n",
    "\n",
    "print(a)\n",
    "print(b)\n",
    "\n",
    "a.sleep()\n",
    "b.sleep()"
   ]
  },
  {
   "cell_type": "code",
   "execution_count": 9,
   "id": "89034699",
   "metadata": {},
   "outputs": [
    {
     "name": "stdout",
     "output_type": "stream",
     "text": [
      "현재값은: 0\n",
      "현재값은: 2\n",
      "현재값은: 0\n",
      "현재값은: 0\n"
     ]
    }
   ],
   "source": [
    "# 1. 숫자 하나 증가\n",
    "# 2. 숫자를 0으로 초기화\n",
    "\n",
    "class Counter:\n",
    "  def __init__(self):\n",
    "    self.num = 0\n",
    "\n",
    "  def increment(self):\n",
    "    self.num+=1\n",
    "\n",
    "  def reset(self):\n",
    "    self.num = 0\n",
    "\n",
    "  def print_cuttrent_value(self):\n",
    "    print('현재값은:', self.num)\n",
    "\n",
    "\n",
    "\n",
    "c1 = Counter()\n",
    "c1.print_cuttrent_value()\n",
    "c1.increment()\n",
    "c1.increment()\n",
    "c1.print_cuttrent_value()\n",
    "c1.reset()\n",
    "c1.print_cuttrent_value()\n",
    "\n",
    "\n",
    "c2 = Counter()\n",
    "c2.print_cuttrent_value()"
   ]
  },
  {
   "cell_type": "code",
   "execution_count": 10,
   "id": "90bcd856",
   "metadata": {},
   "outputs": [],
   "source": [
    "class Math:\n",
    "  \n",
    "  def add(self, a, b):\n",
    "    return a+b\n",
    "\n",
    "  def multiply(self, a, b):\n",
    "    return a * b\n",
    "\n",
    "\n",
    "m = Math()\n"
   ]
  },
  {
   "cell_type": "code",
   "execution_count": 11,
   "id": "ac1f6e16",
   "metadata": {},
   "outputs": [
    {
     "data": {
      "text/plain": [
       "20"
      ]
     },
     "execution_count": 11,
     "metadata": {},
     "output_type": "execute_result"
    }
   ],
   "source": [
    "m.add(10, 10)"
   ]
  },
  {
   "cell_type": "code",
   "execution_count": 12,
   "id": "d7b47723",
   "metadata": {},
   "outputs": [
    {
     "name": "stdout",
     "output_type": "stream",
     "text": [
      "30\n",
      "200\n"
     ]
    }
   ],
   "source": [
    "class Math:\n",
    "  @staticmethod\n",
    "  def add( a, b):\n",
    "    return a+b\n",
    "  @staticmethod\n",
    "  def multiply(a, b):\n",
    "    return a * b\n",
    "\n",
    "print(Math.add(10, 20))\n",
    "print(Math.multiply(10, 20))"
   ]
  },
  {
   "cell_type": "code",
   "execution_count": 13,
   "id": "22d0c057",
   "metadata": {},
   "outputs": [
    {
     "data": {
      "text/plain": [
       "100"
      ]
     },
     "execution_count": 13,
     "metadata": {},
     "output_type": "execute_result"
    }
   ],
   "source": [
    "m.multiply(10, 10)"
   ]
  },
  {
   "cell_type": "markdown",
   "id": "d1000baf",
   "metadata": {},
   "source": [
    "### Class Inheritance (상속)\n",
    "- 기존에 정의해둔 클래스의 기능을 그대로 물려받을 수 있다.\n",
    "- 기존 클래스에 기능 일부를 추가하거나, 변경하여 새로운 클래스를 정의한다.\n",
    "- 코드를 재사용할 수 있게된다.\n",
    "- 상속 받고자 하는 대상인 기존 클래스는 (Parent, Super, Base class 라고 부른다.)\n",
    "- 상속 받는 새로운 클래스는(Child, Sub, Derived class 라고 부른다.)\n",
    "- 의미적으로 is-a관계를 갖는다"
   ]
  },
  {
   "cell_type": "code",
   "execution_count": 14,
   "id": "ec17d811",
   "metadata": {},
   "outputs": [
    {
     "name": "stdout",
     "output_type": "stream",
     "text": [
      "Bob은 chiken를 먹습니다.\n",
      "Bob은 20분동안 잡니다.\n",
      "Bob은 30분동안 일합니다.\n"
     ]
    }
   ],
   "source": [
    "class Person:\n",
    "    def __init__(self, name, age):\n",
    "        self.name = name\n",
    "        self.age = age\n",
    "\n",
    "    def eat(self, food):\n",
    "      print ('{}은 {}를 먹습니다.'.format(self.name, food))\n",
    "    \n",
    "    def sleep(self, minute):\n",
    "      print ('{}은 {}분동안 잡니다.'. format(self.name, minute))\n",
    "\n",
    "    def work(self, minute):\n",
    "      print('{}은 {}분동안 일합니다.'.format(self.name, minute))\n",
    "\n",
    "class Student(Person):\n",
    "    def __init__(self, name, age):\n",
    "      self.name = name\n",
    "      self.age = age  \n",
    "\n",
    "class Employee(Person):\n",
    "   def __init__(self, name, age):\n",
    "      self.name = name\n",
    "      self.age = age  \n",
    "\n",
    "Bob = Student('Bob', 10)\n",
    "Bob.eat('chiken')\n",
    "Bob.sleep(20)\n",
    "Bob.work(30)"
   ]
  },
  {
   "cell_type": "markdown",
   "id": "073c4b70",
   "metadata": {},
   "source": [
    "### method override\n",
    "- 부모 클래스의 method를 재정의(override)\n",
    "- 하위 클래스(자식 클래스) 의 인스턴스로 호출시, 재정의된 메소드가 호출됨"
   ]
  },
  {
   "cell_type": "code",
   "execution_count": 15,
   "id": "60067f60",
   "metadata": {},
   "outputs": [
    {
     "name": "stdout",
     "output_type": "stream",
     "text": [
      "Bob은 chiken를 먹습니다.\n",
      "Bob은 20분동안 잡니다.\n",
      "Bob은 30분동안 공부합니다..\n"
     ]
    }
   ],
   "source": [
    "class Person:\n",
    "    def __init__(self, name, age):\n",
    "        self.name = name\n",
    "        self.age = age\n",
    "\n",
    "    def eat(self, food):\n",
    "      print ('{}은 {}를 먹습니다.'.format(self.name, food))\n",
    "    \n",
    "    def sleep(self, minute):\n",
    "      print ('{}은 {}분동안 잡니다.'. format(self.name, minute))\n",
    "\n",
    "    def work(self, minute):\n",
    "      print('{}은 {}분동안 일합니다.'.format(self.name, minute))\n",
    "\n",
    "class Student(Person):\n",
    "    def __init__(self, name, age):\n",
    "      self.name = name\n",
    "      self.age = age  \n",
    "\n",
    "    def work(self, minute): #부모클래스는 작동안함\n",
    "       print('{}은 {}분동안 공부합니다..'.format(self.name, minute))\n",
    "\n",
    "\n",
    "class Employee(Person):\n",
    "   def __init__(self, name, age):\n",
    "      self.name = name\n",
    "      self.age = age  \n",
    "\n",
    "\n",
    "Bob = Student('Bob', 10)\n",
    "Bob.eat('chiken')\n",
    "Bob.sleep(20)\n",
    "Bob.work(30)"
   ]
  },
  {
   "cell_type": "markdown",
   "id": "af286ff5",
   "metadata": {},
   "source": [
    "### super\n",
    "- 하위클래스(자식 클래스)에서 부모클래스의 method를 호출할 때 사용"
   ]
  },
  {
   "cell_type": "code",
   "execution_count": 16,
   "id": "98a804f1",
   "metadata": {},
   "outputs": [
    {
     "name": "stdout",
     "output_type": "stream",
     "text": [
      "Bob은 chiken를 먹습니다.\n",
      "Bob은 20분동안 잡니다.\n",
      "Bob은 30분동안 준비를 합니다.\n",
      "Bob은 30분동안 공부합니다..\n"
     ]
    }
   ],
   "source": [
    "class Person:\n",
    "    def __init__(self, name, age):\n",
    "        self.name = name\n",
    "        self.age = age\n",
    "\n",
    "    def eat(self, food):\n",
    "      print ('{}은 {}를 먹습니다.'.format(self.name, food))\n",
    "    \n",
    "    def sleep(self, minute):\n",
    "      print ('{}은 {}분동안 잡니다.'. format(self.name, minute))\n",
    "\n",
    "    def work(self, minute):\n",
    "      print('{}은 {}분동안 준비를 합니다.'.format(self.name, minute))\n",
    "\n",
    "class Student(Person):\n",
    "    def __init__(self, name, age):\n",
    "      self.name = name\n",
    "      self.age = age  \n",
    "\n",
    "    def work(self, minute):\n",
    "       super().work(minute)   #부모 클래스의 함수도 이용하고 자식 클래스도 이용하고\n",
    "       print('{}은 {}분동안 공부합니다..'.format(self.name, minute))\n",
    "\n",
    "\n",
    "class Employee(Person):\n",
    "   def __init__(self, name, age):\n",
    "      self.name = name\n",
    "      self.age = age  \n",
    "\n",
    "      def work(self, minute):\n",
    "       print('{}은 {}분동안 업무를 합니다.'.format(self.name, minute))\n",
    "\n",
    "\n",
    "Bob = Student('Bob', 10)\n",
    "Bob.eat('chiken')\n",
    "Bob.sleep(20)\n",
    "Bob.work(30)"
   ]
  },
  {
   "cell_type": "markdown",
   "id": "7a437795",
   "metadata": {},
   "source": [
    "### special method\n",
    "- __로 시작 __로 끝나는 특수 함수\n",
    "- 해당 메쏘드들을 구현하면, 커스텀 객체에 여러가지 파이썬 내장 함수나 연산자를 적용 가능\n",
    "- 오버라이딩 가능한 함수 목록은 아래 링크에서 참조\n",
    "   - https://docs.python.org/3/reference/datamodel.html"
   ]
  },
  {
   "cell_type": "code",
   "execution_count": 19,
   "id": "ceb53753",
   "metadata": {},
   "outputs": [
    {
     "name": "stdout",
     "output_type": "stream",
     "text": [
      "25\n",
      "3\n",
      "4\n",
      "(3, 4)\n",
      "(4, 7)\n",
      "(7, 11)\n",
      "(-1, -3)\n",
      "(15, 20)\n"
     ]
    }
   ],
   "source": [
    "# Point\n",
    "# 2차원 좌표평면 각 점 (x, y)\n",
    "# 연산\n",
    "# 두점의 덧셈, 뺄셈 (1, 2) + (3, 4) = (4, 6)\n",
    "# 한점과 숫자의 곱셈 (1, 2)*3 = (3, 6)\n",
    "# 그 점의 길이 (0, 0) 부터의 거리\n",
    "# x, y 값 가져오기 \n",
    "# 출력하기 \n",
    "\n",
    "\n",
    "\n",
    "class Point:\n",
    "    def __init__(self, x, y):\n",
    "        self.x = x\n",
    "        self.y = y\n",
    "    \n",
    "    #def add(self, pt):\n",
    "     #   new_x = self.x + pt.x\n",
    "    #    new_y = self.y + pt.y\n",
    "     #   return Point(new_x, new_y)\n",
    "\n",
    "# 함수를 만들기 \n",
    "    def __add__(self, pt):\n",
    "        new_x = self.x + pt.x\n",
    "        new_y = self.y + pt.y\n",
    "        return Point(new_x, new_y)\n",
    "\n",
    "    def __sub__(self, pt):\n",
    "        new_x = self.x - pt.x\n",
    "        new_y = self.y - pt.y\n",
    "        return Point(new_x, new_y)\n",
    "\n",
    "    def __mul__(self, factor):\n",
    "      return Point(self.x * factor, self.y*factor)\n",
    "\n",
    "    def __getitem__(self, index):\n",
    "        if index == 0:\n",
    "            return self.x\n",
    "        elif index ==1:\n",
    "            return self.y\n",
    "        else:\n",
    "            return -1\n",
    "\n",
    "    def __len__(self):\n",
    "      return self.x**2 + self.y**2\n",
    "\n",
    "    def __str__(self):\n",
    "        return ('({}, {})'.format(self.x, self.y))\n",
    "\n",
    "#p1[0] -> x\n",
    "#p1[1] -> y\n",
    "\n",
    "p1 = Point(3, 4)\n",
    "p2 = Point(4, 7)\n",
    "\n",
    "p3 = p1 + p2\n",
    "#p3 = p1.add(p1) # p1 + p1\n",
    "p4 = p1 - p2\n",
    "p5 = p1*5\n",
    "\n",
    "\n",
    "print(len(p1))\n",
    "print(p1[0])\n",
    "print(p1[1])\n",
    "\n",
    "\n",
    "print(p1)\n",
    "print(p2)\n",
    "print(p3)\n",
    "print(p4)\n",
    "print(p5)"
   ]
  },
  {
   "cell_type": "markdown",
   "id": "5a8e2d05",
   "metadata": {},
   "source": [
    "### 연습문제)\n",
    "- 복소수 클래스를 정의 해봅시다.\n",
    "- 덧셈, 뺄셈, 곱셈 연산자 지원\n",
    "- 길이 (복소수의 크기) 지원\n",
    "- 복소수 출력 '1 + 4j'와 같이 표현\n",
    "- 비교 연산 ==, != 지원\n",
    "- =, <= , <, > 연산 지원\n",
    "\n",
    "- 절대값 지원"
   ]
  },
  {
   "cell_type": "code",
   "execution_count": 18,
   "id": "5eedde97",
   "metadata": {},
   "outputs": [
    {
     "name": "stdout",
     "output_type": "stream",
     "text": [
      "-2 - 3i\n",
      "4 + 7i\n",
      "-7 + 15i\n",
      "3 + 6i\n",
      "True\n",
      "2.23606797749979\n"
     ]
    }
   ],
   "source": [
    "import math\n",
    "\n",
    "class ComplexNumber:\n",
    "  def __init__(self, real, img):\n",
    "      self.real = real\n",
    "      self.img = img\n",
    "\n",
    "  def __str__(self):\n",
    "      if self.img >= 0:\n",
    "          return '{} + {}i'.format(self.real, self.img)\n",
    "      else:\n",
    "         return '{} - {}i'.format(self.real, abs(self.img))\n",
    "\n",
    "# 더하기\n",
    "  def __add__(self, factor):\n",
    "      return ComplexNumber(self.real + factor.real, self.img + factor.img)\n",
    "\n",
    "# 곱하기\n",
    "  def __mul__(self, x):\n",
    "    if type(x) == int:\n",
    "        return ComplexNumber(self.real*x, self.img*x)\n",
    "    elif type(x) == ComplexNumber:\n",
    "        return ComplexNumber(self.real *x.real - self.img*x.img, self.real*x.img+self.img*x.img)     \n",
    "\n",
    "# 빼기\n",
    "  def __sub__(self, factor):\n",
    "      return ComplexNumber(self.real - factor.real, self.img - factor.img)\n",
    "      \n",
    "\n",
    "  # 비교\n",
    "  def __eq__(self, cn):\n",
    "    return self.real == cn.real and self.img == cn.img\n",
    "\n",
    "  def __ne__(self, cn):\n",
    "    return not ( self.real == cn.real and self.img == cn.img)\n",
    "\n",
    "    # 절대값\n",
    "  def __abs__(self):\n",
    "    return math.sqrt(self.real**2 + self.img**2)\n",
    "\n",
    "\n",
    "a = ComplexNumber(1, 2)\n",
    "b = ComplexNumber(3, 5)\n",
    "\n",
    "print(a-b)\n",
    "print(a+b)\n",
    "print(a*b)\n",
    "print(a*3)\n",
    "print(a!=b)\n",
    "print(abs(a))"
   ]
  },
  {
   "cell_type": "code",
   "execution_count": null,
   "id": "13b81e43",
   "metadata": {},
   "outputs": [],
   "source": []
  },
  {
   "cell_type": "code",
   "execution_count": null,
   "id": "9cd71762",
   "metadata": {},
   "outputs": [],
   "source": []
  },
  {
   "cell_type": "code",
   "execution_count": null,
   "id": "55ce373d",
   "metadata": {},
   "outputs": [],
   "source": []
  }
 ],
 "metadata": {
  "kernelspec": {
   "display_name": "Python 3 (ipykernel)",
   "language": "python",
   "name": "python3"
  },
  "language_info": {
   "codemirror_mode": {
    "name": "ipython",
    "version": 3
   },
   "file_extension": ".py",
   "mimetype": "text/x-python",
   "name": "python",
   "nbconvert_exporter": "python",
   "pygments_lexer": "ipython3",
   "version": "3.9.7"
  }
 },
 "nbformat": 4,
 "nbformat_minor": 5
}
