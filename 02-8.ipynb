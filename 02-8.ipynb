{
 "cells": [
  {
   "cell_type": "code",
   "execution_count": 12,
   "id": "51a84041",
   "metadata": {},
   "outputs": [],
   "source": [
    "a = 80\n",
    "b = 75\n",
    "c = 55"
   ]
  },
  {
   "cell_type": "code",
   "execution_count": 14,
   "id": "e9b04781",
   "metadata": {},
   "outputs": [
    {
     "data": {
      "text/plain": [
       "70.0"
      ]
     },
     "execution_count": 14,
     "metadata": {},
     "output_type": "execute_result"
    }
   ],
   "source": [
    "(a+b+c)/3"
   ]
  },
  {
   "cell_type": "code",
   "execution_count": 15,
   "id": "95a979bc",
   "metadata": {},
   "outputs": [
    {
     "data": {
      "text/plain": [
       "1"
      ]
     },
     "execution_count": 15,
     "metadata": {},
     "output_type": "execute_result"
    }
   ],
   "source": [
    "13%2"
   ]
  },
  {
   "cell_type": "code",
   "execution_count": 16,
   "id": "04865454",
   "metadata": {},
   "outputs": [],
   "source": [
    "pin = '881120-1068234'"
   ]
  },
  {
   "cell_type": "code",
   "execution_count": 17,
   "id": "ce507143",
   "metadata": {},
   "outputs": [
    {
     "data": {
      "text/plain": [
       "'881120'"
      ]
     },
     "execution_count": 17,
     "metadata": {},
     "output_type": "execute_result"
    }
   ],
   "source": [
    "pin[0:6]"
   ]
  },
  {
   "cell_type": "code",
   "execution_count": 19,
   "id": "287d4677",
   "metadata": {},
   "outputs": [
    {
     "data": {
      "text/plain": [
       "'1068234'"
      ]
     },
     "execution_count": 19,
     "metadata": {},
     "output_type": "execute_result"
    }
   ],
   "source": [
    "pin[7:]"
   ]
  },
  {
   "cell_type": "code",
   "execution_count": 27,
   "id": "d03c9da3",
   "metadata": {},
   "outputs": [],
   "source": [
    "a = 'a:b:c:d'"
   ]
  },
  {
   "cell_type": "code",
   "execution_count": 30,
   "id": "4ee6577b",
   "metadata": {},
   "outputs": [
    {
     "data": {
      "text/plain": [
       "'a#b#c#d'"
      ]
     },
     "execution_count": 30,
     "metadata": {},
     "output_type": "execute_result"
    }
   ],
   "source": [
    "a.replace(':','#' )\n"
   ]
  },
  {
   "cell_type": "code",
   "execution_count": null,
   "id": "857afbe3",
   "metadata": {},
   "outputs": [],
   "source": []
  }
 ],
 "metadata": {
  "kernelspec": {
   "display_name": "Python 3 (ipykernel)",
   "language": "python",
   "name": "python3"
  },
  "language_info": {
   "codemirror_mode": {
    "name": "ipython",
    "version": 3
   },
   "file_extension": ".py",
   "mimetype": "text/x-python",
   "name": "python",
   "nbconvert_exporter": "python",
   "pygments_lexer": "ipython3",
   "version": "3.9.7"
  }
 },
 "nbformat": 4,
 "nbformat_minor": 5
}
