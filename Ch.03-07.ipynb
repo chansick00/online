{
 "cells": [
  {
   "cell_type": "code",
   "execution_count": 14,
   "id": "829b6fd6",
   "metadata": {},
   "outputs": [],
   "source": [
    "import numpy as np\n",
    "import tensorflow as tf\n",
    "from tensorflow import keras\n",
    "from tensorflow.keras import Model\n",
    "from tensorflow.keras.layers import Input, Embedding, Bidirectional, LSTM, Dense\n",
    "\n",
    "vocab_size = 2500  # 사용할 단어 개수\n",
    "maxlen = 20  # Bi-LSTM에 들어갈 최대 input sequence의 수 (단어 수)"
   ]
  },
  {
   "cell_type": "markdown",
   "id": "f108fe76",
   "metadata": {},
   "source": [
    "## Build the model in Functional API style"
   ]
  },
  {
   "cell_type": "code",
   "execution_count": 15,
   "id": "c9e2a74f",
   "metadata": {},
   "outputs": [
    {
     "name": "stdout",
     "output_type": "stream",
     "text": [
      "Model: \"model_3\"\n",
      "_________________________________________________________________\n",
      " Layer (type)                Output Shape              Param #   \n",
      "=================================================================\n",
      " input_4 (InputLayer)        [(None, None)]            0         \n",
      "                                                                 \n",
      " embedding_3 (Embedding)     (None, None, 50)          125000    \n",
      "                                                                 \n",
      " bidirectional_3 (Bidirectio  (None, 256)              183296    \n",
      " nal)                                                            \n",
      "                                                                 \n",
      " dense_3 (Dense)             (None, 1)                 257       \n",
      "                                                                 \n",
      "=================================================================\n",
      "Total params: 308,553\n",
      "Trainable params: 308,553\n",
      "Non-trainable params: 0\n",
      "_________________________________________________________________\n"
     ]
    }
   ],
   "source": [
    "# input layer -> Bi-LSTM -> Dense(output)\n",
    "inputs = Input(shape=(None,), dtype=\"int32\")\n",
    "\n",
    "x = Embedding(vocab_size, 50)(inputs) ## text -> vector (100d)\n",
    "x = Bidirectional(LSTM(128))(x) # # of hidden layer node = 128 (hyper-parameter)\n",
    "\n",
    "outputs = Dense(1, activation=\"sigmoid\")(x) # [0, 1] ## binary classification\n",
    "model = Model(inputs, outputs)\n",
    "model.summary()"
   ]
  },
  {
   "cell_type": "markdown",
   "id": "b1f9d094",
   "metadata": {},
   "source": [
    "## IMDB 감정분석 데이터셋 불러오기"
   ]
  },
  {
   "cell_type": "code",
   "execution_count": 16,
   "id": "2fa7cb9c",
   "metadata": {},
   "outputs": [
    {
     "name": "stdout",
     "output_type": "stream",
     "text": [
      "25000 Training sequences\n",
      "25000 Test sequences\n"
     ]
    }
   ],
   "source": [
    "(X_train, y_train), (X_test, y_test) = keras.datasets.imdb.load_data(num_words=vocab_size)\n",
    "\n",
    "print(len(X_train), \"Training sequences\")\n",
    "print(len(X_test), \"Test sequences\")\n",
    "\n",
    "X_train = keras.preprocessing.sequence.pad_sequences(X_train, maxlen=maxlen) # zero-padding\n",
    "X_test = keras.preprocessing.sequence.pad_sequences(X_test, maxlen=maxlen)"
   ]
  },
  {
   "cell_type": "markdown",
   "id": "28ebd7ee",
   "metadata": {},
   "source": [
    "## Train and evaluate the model"
   ]
  },
  {
   "cell_type": "code",
   "execution_count": 17,
   "id": "98f0f6a6",
   "metadata": {},
   "outputs": [],
   "source": [
    "# training setup\n",
    "from tensorflow.keras.optimizers import SGD\n",
    "\n",
    "## config variables\n",
    "batch_size = 128\n",
    "lr = 0.1\n",
    "epochs = 5\n",
    "\n",
    "# Set optimizer, loss function, metrics\n",
    "optimizer = SGD(lr, momentum=0.9)\n",
    "loss_fn = \"binary_crossentropy\" # binary-classification\n",
    "metrics = [\"accuracy\"]\n",
    "\n",
    "model.compile(optimizer=optimizer,\n",
    "              loss=loss_fn,\n",
    "              metrics=metrics)"
   ]
  },
  {
   "cell_type": "code",
   "execution_count": 19,
   "id": "a73fc2a7",
   "metadata": {},
   "outputs": [
    {
     "name": "stdout",
     "output_type": "stream",
     "text": [
      "Epoch 1/5\n",
      "196/196 [==============================] - 22s 111ms/step - loss: 0.5377 - accuracy: 0.7257 - val_loss: 0.5198 - val_accuracy: 0.7338\n",
      "Epoch 2/5\n",
      "196/196 [==============================] - 21s 110ms/step - loss: 0.5036 - accuracy: 0.7492 - val_loss: 0.5929 - val_accuracy: 0.6922\n",
      "Epoch 3/5\n",
      "196/196 [==============================] - 22s 114ms/step - loss: 0.4926 - accuracy: 0.7566 - val_loss: 0.5011 - val_accuracy: 0.7512\n",
      "Epoch 4/5\n",
      "196/196 [==============================] - 22s 114ms/step - loss: 0.4848 - accuracy: 0.7633 - val_loss: 0.5416 - val_accuracy: 0.7223\n",
      "Epoch 5/5\n",
      "196/196 [==============================] - 22s 113ms/step - loss: 0.4818 - accuracy: 0.7642 - val_loss: 0.5032 - val_accuracy: 0.7472\n"
     ]
    },
    {
     "data": {
      "text/plain": [
       "<keras.callbacks.History at 0x27214b2beb0>"
      ]
     },
     "execution_count": 19,
     "metadata": {},
     "output_type": "execute_result"
    }
   ],
   "source": [
    "model.fit(X_train, y_train,\n",
    "          batch_size=128,\n",
    "          epochs=5,\n",
    "          verbose=1,\n",
    "          validation_data=(X_test, y_test))"
   ]
  },
  {
   "cell_type": "code",
   "execution_count": 20,
   "id": "3f5703c8",
   "metadata": {},
   "outputs": [
    {
     "name": "stdout",
     "output_type": "stream",
     "text": [
      "782/782 [==============================] - 8s 11ms/step - loss: 0.5032 - accuracy: 0.7472\n"
     ]
    },
    {
     "data": {
      "text/plain": [
       "[0.503247082233429, 0.7472000122070312]"
      ]
     },
     "execution_count": 20,
     "metadata": {},
     "output_type": "execute_result"
    }
   ],
   "source": [
    "model.evaluate(X_test, y_test)"
   ]
  },
  {
   "cell_type": "code",
   "execution_count": null,
   "id": "7225817e",
   "metadata": {},
   "outputs": [],
   "source": []
  }
 ],
 "metadata": {
  "kernelspec": {
   "display_name": "Python 3 (ipykernel)",
   "language": "python",
   "name": "python3"
  },
  "language_info": {
   "codemirror_mode": {
    "name": "ipython",
    "version": 3
   },
   "file_extension": ".py",
   "mimetype": "text/x-python",
   "name": "python",
   "nbconvert_exporter": "python",
   "pygments_lexer": "ipython3",
   "version": "3.9.7"
  }
 },
 "nbformat": 4,
 "nbformat_minor": 5
}
