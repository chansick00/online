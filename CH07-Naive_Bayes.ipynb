{
 "cells": [
  {
   "cell_type": "markdown",
   "id": "94a818c8",
   "metadata": {},
   "source": [
    "# 1. Gaussian Naive Bayes\n"
   ]
  },
  {
   "cell_type": "markdown",
   "id": "554096cc",
   "metadata": {},
   "source": [
    "### 데이터, 모듈 불러오기"
   ]
  },
  {
   "cell_type": "code",
   "execution_count": 1,
   "id": "09b84b57",
   "metadata": {},
   "outputs": [],
   "source": [
    "from sklearn import datasets\n",
    "from sklearn.naive_bayes import GaussianNB"
   ]
  },
  {
   "cell_type": "code",
   "execution_count": 2,
   "id": "f570014d",
   "metadata": {},
   "outputs": [],
   "source": [
    "import pandas as pd"
   ]
  },
  {
   "cell_type": "code",
   "execution_count": 3,
   "id": "7e41ee2e",
   "metadata": {},
   "outputs": [],
   "source": [
    "iris = datasets.load_iris()\n",
    "df_X=pd.DataFrame(iris.data)\n",
    "df_Y=pd.DataFrame(iris.target)"
   ]
  },
  {
   "cell_type": "code",
   "execution_count": 4,
   "id": "818f5279",
   "metadata": {},
   "outputs": [
    {
     "data": {
      "text/html": [
       "<div>\n",
       "<style scoped>\n",
       "    .dataframe tbody tr th:only-of-type {\n",
       "        vertical-align: middle;\n",
       "    }\n",
       "\n",
       "    .dataframe tbody tr th {\n",
       "        vertical-align: top;\n",
       "    }\n",
       "\n",
       "    .dataframe thead th {\n",
       "        text-align: right;\n",
       "    }\n",
       "</style>\n",
       "<table border=\"1\" class=\"dataframe\">\n",
       "  <thead>\n",
       "    <tr style=\"text-align: right;\">\n",
       "      <th></th>\n",
       "      <th>0</th>\n",
       "      <th>1</th>\n",
       "      <th>2</th>\n",
       "      <th>3</th>\n",
       "    </tr>\n",
       "  </thead>\n",
       "  <tbody>\n",
       "    <tr>\n",
       "      <th>0</th>\n",
       "      <td>5.1</td>\n",
       "      <td>3.5</td>\n",
       "      <td>1.4</td>\n",
       "      <td>0.2</td>\n",
       "    </tr>\n",
       "    <tr>\n",
       "      <th>1</th>\n",
       "      <td>4.9</td>\n",
       "      <td>3.0</td>\n",
       "      <td>1.4</td>\n",
       "      <td>0.2</td>\n",
       "    </tr>\n",
       "    <tr>\n",
       "      <th>2</th>\n",
       "      <td>4.7</td>\n",
       "      <td>3.2</td>\n",
       "      <td>1.3</td>\n",
       "      <td>0.2</td>\n",
       "    </tr>\n",
       "    <tr>\n",
       "      <th>3</th>\n",
       "      <td>4.6</td>\n",
       "      <td>3.1</td>\n",
       "      <td>1.5</td>\n",
       "      <td>0.2</td>\n",
       "    </tr>\n",
       "    <tr>\n",
       "      <th>4</th>\n",
       "      <td>5.0</td>\n",
       "      <td>3.6</td>\n",
       "      <td>1.4</td>\n",
       "      <td>0.2</td>\n",
       "    </tr>\n",
       "  </tbody>\n",
       "</table>\n",
       "</div>"
      ],
      "text/plain": [
       "     0    1    2    3\n",
       "0  5.1  3.5  1.4  0.2\n",
       "1  4.9  3.0  1.4  0.2\n",
       "2  4.7  3.2  1.3  0.2\n",
       "3  4.6  3.1  1.5  0.2\n",
       "4  5.0  3.6  1.4  0.2"
      ]
     },
     "execution_count": 4,
     "metadata": {},
     "output_type": "execute_result"
    }
   ],
   "source": [
    "df_X.head()"
   ]
  },
  {
   "cell_type": "code",
   "execution_count": 5,
   "id": "af1b3a41",
   "metadata": {},
   "outputs": [
    {
     "data": {
      "text/html": [
       "<div>\n",
       "<style scoped>\n",
       "    .dataframe tbody tr th:only-of-type {\n",
       "        vertical-align: middle;\n",
       "    }\n",
       "\n",
       "    .dataframe tbody tr th {\n",
       "        vertical-align: top;\n",
       "    }\n",
       "\n",
       "    .dataframe thead th {\n",
       "        text-align: right;\n",
       "    }\n",
       "</style>\n",
       "<table border=\"1\" class=\"dataframe\">\n",
       "  <thead>\n",
       "    <tr style=\"text-align: right;\">\n",
       "      <th></th>\n",
       "      <th>0</th>\n",
       "    </tr>\n",
       "  </thead>\n",
       "  <tbody>\n",
       "    <tr>\n",
       "      <th>0</th>\n",
       "      <td>0</td>\n",
       "    </tr>\n",
       "    <tr>\n",
       "      <th>1</th>\n",
       "      <td>0</td>\n",
       "    </tr>\n",
       "    <tr>\n",
       "      <th>2</th>\n",
       "      <td>0</td>\n",
       "    </tr>\n",
       "    <tr>\n",
       "      <th>3</th>\n",
       "      <td>0</td>\n",
       "    </tr>\n",
       "    <tr>\n",
       "      <th>4</th>\n",
       "      <td>0</td>\n",
       "    </tr>\n",
       "  </tbody>\n",
       "</table>\n",
       "</div>"
      ],
      "text/plain": [
       "   0\n",
       "0  0\n",
       "1  0\n",
       "2  0\n",
       "3  0\n",
       "4  0"
      ]
     },
     "execution_count": 5,
     "metadata": {},
     "output_type": "execute_result"
    }
   ],
   "source": [
    "df_Y.head()"
   ]
  },
  {
   "cell_type": "markdown",
   "id": "21c46f0e",
   "metadata": {},
   "source": [
    "### 모델 피팅"
   ]
  },
  {
   "cell_type": "code",
   "execution_count": 6,
   "id": "88bf7f15",
   "metadata": {},
   "outputs": [],
   "source": [
    "gnb = GaussianNB()\n",
    "fitted = gnb.fit(iris.data, iris.target)\n",
    "y_pred = fitted.predict(iris.data)"
   ]
  },
  {
   "cell_type": "code",
   "execution_count": 9,
   "id": "23e55b8f",
   "metadata": {},
   "outputs": [
    {
     "data": {
      "text/plain": [
       "array([[1.00000000e+000, 1.51480769e-017, 2.34820051e-025],\n",
       "       [1.00000000e+000, 2.63876217e-018, 2.79566024e-025],\n",
       "       [7.27347795e-102, 9.45169639e-001, 5.48303606e-002],\n",
       "       [3.23245181e-254, 6.35381031e-011, 1.00000000e+000]])"
      ]
     },
     "execution_count": 9,
     "metadata": {},
     "output_type": "execute_result"
    }
   ],
   "source": [
    "fitted.predict_proba(iris.data)[[1,48,51,100]]"
   ]
  },
  {
   "cell_type": "code",
   "execution_count": 10,
   "id": "a227f035",
   "metadata": {},
   "outputs": [
    {
     "data": {
      "text/plain": [
       "array([0, 0, 1, 2])"
      ]
     },
     "execution_count": 10,
     "metadata": {},
     "output_type": "execute_result"
    }
   ],
   "source": [
    "fitted.predict(iris.data)[[1,48,51,100]]"
   ]
  },
  {
   "cell_type": "markdown",
   "id": "e858db1e",
   "metadata": {},
   "source": [
    "### Confusion matrix 구하기"
   ]
  },
  {
   "cell_type": "code",
   "execution_count": 11,
   "id": "a79740f2",
   "metadata": {},
   "outputs": [],
   "source": [
    "from sklearn.metrics import confusion_matrix"
   ]
  },
  {
   "cell_type": "code",
   "execution_count": 12,
   "id": "444ff1e3",
   "metadata": {},
   "outputs": [
    {
     "data": {
      "text/plain": [
       "array([[50,  0,  0],\n",
       "       [ 0, 47,  3],\n",
       "       [ 0,  3, 47]], dtype=int64)"
      ]
     },
     "execution_count": 12,
     "metadata": {},
     "output_type": "execute_result"
    }
   ],
   "source": [
    "confusion_matrix(iris.target,y_pred)"
   ]
  },
  {
   "cell_type": "markdown",
   "id": "54629f94",
   "metadata": {},
   "source": [
    "### Prior 설정하기"
   ]
  },
  {
   "cell_type": "code",
   "execution_count": 14,
   "id": "c55352e6",
   "metadata": {},
   "outputs": [
    {
     "data": {
      "text/plain": [
       "array([[50,  0,  0],\n",
       "       [ 0, 33, 17],\n",
       "       [ 0,  0, 50]], dtype=int64)"
      ]
     },
     "execution_count": 14,
     "metadata": {},
     "output_type": "execute_result"
    }
   ],
   "source": [
    "gnb2 = GaussianNB(priors=[1/100, 1/100,98/100])\n",
    "fitted2 = gnb2.fit(iris.data,iris.target)\n",
    "y_pred2 = fitted2.predict(iris.data)\n",
    "confusion_matrix(iris.target,y_pred2)"
   ]
  },
  {
   "cell_type": "code",
   "execution_count": 15,
   "id": "ebefa696",
   "metadata": {},
   "outputs": [
    {
     "data": {
      "text/plain": [
       "array([[50,  0,  0],\n",
       "       [ 0, 50,  0],\n",
       "       [ 0, 14, 36]], dtype=int64)"
      ]
     },
     "execution_count": 15,
     "metadata": {},
     "output_type": "execute_result"
    }
   ],
   "source": [
    "gnb2 = GaussianNB(priors=[1/100, 98/100,1/100])\n",
    "fitted2 = gnb2.fit(iris.data,iris.target)\n",
    "y_pred2 = fitted2.predict(iris.data)\n",
    "confusion_matrix(iris.target,y_pred2)"
   ]
  },
  {
   "cell_type": "markdown",
   "id": "02f8c784",
   "metadata": {},
   "source": [
    "## 2. Multinomial naive bayes"
   ]
  },
  {
   "cell_type": "markdown",
   "id": "1bab059d",
   "metadata": {},
   "source": [
    "### 모듈 불러오기 및 데이터 생성"
   ]
  },
  {
   "cell_type": "code",
   "execution_count": 16,
   "id": "57feb56b",
   "metadata": {},
   "outputs": [],
   "source": [
    "from sklearn.naive_bayes import MultinomialNB"
   ]
  },
  {
   "cell_type": "code",
   "execution_count": 17,
   "id": "ed34fe64",
   "metadata": {},
   "outputs": [],
   "source": [
    "import numpy as np"
   ]
  },
  {
   "cell_type": "code",
   "execution_count": 18,
   "id": "a5df4c4c",
   "metadata": {},
   "outputs": [],
   "source": [
    "X = np.random.randint(5, size=(6, 100))\n",
    "y = np.array([1, 2, 3, 4, 5, 6])"
   ]
  },
  {
   "cell_type": "code",
   "execution_count": 19,
   "id": "097d6ed6",
   "metadata": {
    "scrolled": true
   },
   "outputs": [
    {
     "data": {
      "text/plain": [
       "array([[1, 3, 2, 1, 2, 3, 3, 1, 4, 1, 4, 1, 0, 4, 1, 1, 2, 3, 2, 3, 2, 4,\n",
       "        1, 1, 0, 3, 1, 0, 1, 3, 0, 4, 4, 0, 1, 2, 4, 2, 4, 3, 2, 0, 1, 1,\n",
       "        4, 4, 4, 4, 2, 0, 0, 0, 3, 4, 4, 4, 4, 3, 1, 4, 1, 2, 4, 0, 3, 2,\n",
       "        4, 0, 2, 4, 1, 0, 1, 3, 0, 2, 1, 1, 0, 4, 0, 4, 0, 1, 1, 2, 4, 1,\n",
       "        1, 3, 3, 1, 3, 2, 0, 4, 4, 3, 0, 2],\n",
       "       [0, 4, 4, 4, 2, 1, 2, 3, 3, 1, 2, 0, 4, 0, 3, 1, 4, 1, 3, 2, 2, 2,\n",
       "        1, 1, 2, 0, 2, 3, 3, 1, 2, 0, 4, 0, 3, 0, 4, 1, 3, 1, 1, 1, 2, 3,\n",
       "        4, 4, 2, 1, 2, 1, 1, 4, 3, 2, 2, 2, 0, 3, 4, 3, 2, 3, 4, 0, 1, 0,\n",
       "        4, 1, 3, 3, 4, 2, 3, 4, 3, 0, 2, 4, 1, 4, 0, 0, 3, 4, 0, 0, 4, 2,\n",
       "        0, 4, 4, 2, 4, 2, 0, 1, 0, 0, 1, 2],\n",
       "       [0, 4, 4, 3, 1, 3, 0, 1, 2, 3, 2, 3, 1, 3, 1, 2, 2, 1, 0, 4, 2, 2,\n",
       "        2, 4, 4, 4, 1, 4, 2, 0, 4, 0, 1, 1, 0, 3, 2, 4, 4, 4, 0, 0, 3, 0,\n",
       "        1, 2, 0, 4, 1, 1, 2, 2, 4, 2, 0, 1, 3, 1, 0, 4, 2, 3, 1, 1, 1, 3,\n",
       "        0, 4, 2, 2, 3, 2, 0, 0, 2, 3, 2, 0, 0, 2, 1, 1, 3, 3, 1, 2, 2, 4,\n",
       "        0, 0, 0, 1, 3, 3, 0, 3, 4, 3, 2, 0],\n",
       "       [4, 3, 1, 0, 0, 1, 1, 4, 3, 1, 0, 4, 2, 2, 2, 0, 3, 1, 2, 3, 0, 4,\n",
       "        4, 3, 2, 2, 2, 0, 4, 4, 4, 3, 4, 4, 1, 1, 2, 2, 4, 3, 4, 0, 3, 3,\n",
       "        0, 2, 1, 1, 0, 4, 3, 4, 0, 3, 1, 4, 2, 3, 4, 1, 1, 2, 4, 1, 2, 0,\n",
       "        4, 4, 4, 0, 2, 0, 1, 0, 4, 1, 3, 1, 1, 2, 3, 3, 3, 1, 3, 4, 2, 3,\n",
       "        4, 1, 2, 1, 0, 3, 4, 4, 1, 1, 4, 4],\n",
       "       [2, 4, 4, 0, 2, 3, 0, 2, 4, 1, 4, 4, 4, 2, 0, 0, 3, 1, 3, 3, 3, 3,\n",
       "        2, 1, 3, 0, 3, 3, 2, 0, 4, 0, 3, 1, 3, 2, 4, 0, 1, 0, 2, 1, 4, 1,\n",
       "        2, 1, 2, 2, 4, 0, 2, 0, 3, 4, 3, 1, 1, 1, 1, 4, 1, 0, 3, 2, 1, 3,\n",
       "        1, 3, 0, 4, 4, 1, 1, 1, 3, 4, 2, 4, 3, 3, 0, 4, 3, 3, 1, 0, 1, 0,\n",
       "        3, 0, 3, 2, 0, 3, 2, 3, 0, 4, 4, 3],\n",
       "       [3, 0, 0, 2, 2, 0, 1, 4, 1, 2, 2, 2, 1, 0, 0, 4, 2, 2, 4, 2, 2, 4,\n",
       "        4, 4, 4, 2, 0, 1, 1, 1, 1, 3, 0, 4, 0, 2, 1, 0, 4, 1, 2, 3, 4, 4,\n",
       "        4, 4, 2, 4, 0, 0, 0, 2, 1, 3, 2, 1, 2, 3, 0, 3, 3, 3, 4, 1, 4, 2,\n",
       "        1, 2, 2, 0, 0, 1, 0, 0, 0, 3, 4, 3, 2, 1, 2, 3, 1, 0, 1, 0, 3, 1,\n",
       "        3, 4, 4, 1, 1, 2, 1, 4, 4, 2, 4, 4]])"
      ]
     },
     "execution_count": 19,
     "metadata": {},
     "output_type": "execute_result"
    }
   ],
   "source": [
    "X"
   ]
  },
  {
   "cell_type": "code",
   "execution_count": 20,
   "id": "cc885a94",
   "metadata": {},
   "outputs": [
    {
     "data": {
      "text/plain": [
       "array([1, 2, 3, 4, 5, 6])"
      ]
     },
     "execution_count": 20,
     "metadata": {},
     "output_type": "execute_result"
    }
   ],
   "source": [
    "y"
   ]
  },
  {
   "cell_type": "markdown",
   "id": "4394ee67",
   "metadata": {},
   "source": [
    "### Multinomial naive bayes 모델 생성"
   ]
  },
  {
   "cell_type": "code",
   "execution_count": 25,
   "id": "76a670a9",
   "metadata": {},
   "outputs": [
    {
     "data": {
      "text/plain": [
       "MultinomialNB()"
      ]
     },
     "execution_count": 25,
     "metadata": {},
     "output_type": "execute_result"
    }
   ],
   "source": [
    "clf = MultinomialNB()\n",
    "clf.fit(X, y)"
   ]
  },
  {
   "cell_type": "code",
   "execution_count": 26,
   "id": "22d83758",
   "metadata": {},
   "outputs": [
    {
     "name": "stdout",
     "output_type": "stream",
     "text": [
      "[3]\n"
     ]
    }
   ],
   "source": [
    "print(clf.predict(X[2:3]))"
   ]
  },
  {
   "cell_type": "code",
   "execution_count": 27,
   "id": "bcdf85c2",
   "metadata": {},
   "outputs": [
    {
     "data": {
      "text/plain": [
       "array([[1.62836442e-32, 1.40033379e-35, 1.00000000e+00, 7.89548751e-35,\n",
       "        2.00027892e-31, 6.57224779e-35]])"
      ]
     },
     "execution_count": 27,
     "metadata": {},
     "output_type": "execute_result"
    }
   ],
   "source": [
    "clf.predict_proba(X[2:3])"
   ]
  },
  {
   "cell_type": "markdown",
   "id": "ee51f187",
   "metadata": {},
   "source": [
    "### prior 변경해보기"
   ]
  },
  {
   "cell_type": "code",
   "execution_count": 31,
   "id": "aa32da57",
   "metadata": {},
   "outputs": [
    {
     "data": {
      "text/plain": [
       "MultinomialNB(class_prior=[0.1, 0.5, 0.1, 0.1, 0.1, 0.1])"
      ]
     },
     "execution_count": 31,
     "metadata": {},
     "output_type": "execute_result"
    }
   ],
   "source": [
    "clf2 = MultinomialNB(class_prior=[0.1, 0.5, 0.1, 0.1, 0.1, 0.1])\n",
    "clf2.fit(X, y)"
   ]
  },
  {
   "cell_type": "code",
   "execution_count": 32,
   "id": "946b4b98",
   "metadata": {},
   "outputs": [
    {
     "data": {
      "text/plain": [
       "array([[1.62836442e-32, 7.00166893e-35, 1.00000000e+00, 7.89548751e-35,\n",
       "        2.00027892e-31, 6.57224779e-35]])"
      ]
     },
     "execution_count": 32,
     "metadata": {},
     "output_type": "execute_result"
    }
   ],
   "source": [
    "clf2.predict_proba(X[2:3])"
   ]
  },
  {
   "cell_type": "code",
   "execution_count": null,
   "id": "da9a6032",
   "metadata": {},
   "outputs": [],
   "source": []
  },
  {
   "cell_type": "code",
   "execution_count": null,
   "id": "af455ac2",
   "metadata": {},
   "outputs": [],
   "source": []
  }
 ],
 "metadata": {
  "kernelspec": {
   "display_name": "Python 3 (ipykernel)",
   "language": "python",
   "name": "python3"
  },
  "language_info": {
   "codemirror_mode": {
    "name": "ipython",
    "version": 3
   },
   "file_extension": ".py",
   "mimetype": "text/x-python",
   "name": "python",
   "nbconvert_exporter": "python",
   "pygments_lexer": "ipython3",
   "version": "3.9.7"
  }
 },
 "nbformat": 4,
 "nbformat_minor": 5
}
